{
 "cells": [
  {
   "cell_type": "markdown",
   "id": "e7fb40b9-da3f-4f67-a95b-73a74d00b271",
   "metadata": {},
   "source": [
    "# Deals with the fundamentals of the Python Data Model, more specifically the so-called dunder methods"
   ]
  },
  {
   "cell_type": "code",
   "execution_count": 30,
   "id": "4f84fca1-7f67-40bd-b8eb-727b1ff5ee43",
   "metadata": {},
   "outputs": [],
   "source": [
    "import collections"
   ]
  },
  {
   "cell_type": "code",
   "execution_count": 31,
   "id": "3c81394a-bbb1-4ae9-9678-170301125690",
   "metadata": {},
   "outputs": [],
   "source": [
    "Card = collections.namedtuple('Card', ['rank', 'suit'])"
   ]
  },
  {
   "cell_type": "code",
   "execution_count": 32,
   "id": "f9561bce-bbcf-45eb-b4a6-89aa56b5803c",
   "metadata": {},
   "outputs": [],
   "source": [
    "class FrenchDeck:\n",
    "    ranks = [str(n) for n in range(2, 11)] + list('JQKA')\n",
    "    suits = 'spades diamonds clubs hearts'.split(\" \")\n",
    "\n",
    "    def __init__(self):\n",
    "        self._cards = [Card(rank, suit) for suit in self.suits for rank in self.ranks]\n",
    "        \n",
    "    def __len__(self):\n",
    "        return len(self._cards)\n",
    "\n",
    "    # implementing this method is enough to make our class an iterable\n",
    "    def __getitem__(self, position):\n",
    "        return self._cards[position]"
   ]
  },
  {
   "cell_type": "code",
   "execution_count": 33,
   "id": "0fcc2e83-23d9-48ee-84d6-a8a609080f65",
   "metadata": {},
   "outputs": [
    {
     "data": {
      "text/plain": [
       "52"
      ]
     },
     "execution_count": 33,
     "metadata": {},
     "output_type": "execute_result"
    }
   ],
   "source": [
    "deck = FrenchDeck()\n",
    "len(deck)"
   ]
  },
  {
   "cell_type": "code",
   "execution_count": 34,
   "id": "3ed50197-acf1-4310-8120-f2510f83c1c3",
   "metadata": {},
   "outputs": [
    {
     "data": {
      "text/plain": [
       "Card(rank='K', suit='spades')"
      ]
     },
     "execution_count": 34,
     "metadata": {},
     "output_type": "execute_result"
    }
   ],
   "source": [
    "deck[11]"
   ]
  },
  {
   "cell_type": "code",
   "execution_count": 17,
   "id": "cb169a9c-7930-4d7a-a726-5ec9dc54abcb",
   "metadata": {},
   "outputs": [],
   "source": [
    "from random import choice"
   ]
  },
  {
   "cell_type": "code",
   "execution_count": 18,
   "id": "b5340f0a-9728-46f5-a94d-38c7c4f5b731",
   "metadata": {},
   "outputs": [
    {
     "data": {
      "text/plain": [
       "Card(rank='8', suit='hearts')"
      ]
     },
     "execution_count": 18,
     "metadata": {},
     "output_type": "execute_result"
    }
   ],
   "source": [
    "choice(deck)"
   ]
  },
  {
   "cell_type": "code",
   "execution_count": 28,
   "id": "e903ea98-8bca-4033-b03f-2a83c83c3322",
   "metadata": {},
   "outputs": [
    {
     "data": {
      "text/plain": [
       "True"
      ]
     },
     "execution_count": 28,
     "metadata": {},
     "output_type": "execute_result"
    }
   ],
   "source": [
    "Card('Q', 'hearts') in deck"
   ]
  },
  {
   "cell_type": "markdown",
   "id": "d86a252a-54c4-42f5-9310-be9b18d48f16",
   "metadata": {},
   "source": [
    "## Chapter Takeaways:\n",
    "- ﻿if you're only implementing __str__ or __repr__, go for __repr__\n",
    "- implementing dunder methods allows objects to behave like builtins"
   ]
  }
 ],
 "metadata": {
  "kernelspec": {
   "display_name": "Python 3 (ipykernel)",
   "language": "python",
   "name": "python3"
  },
  "language_info": {
   "codemirror_mode": {
    "name": "ipython",
    "version": 3
   },
   "file_extension": ".py",
   "mimetype": "text/x-python",
   "name": "python",
   "nbconvert_exporter": "python",
   "pygments_lexer": "ipython3",
   "version": "3.10.10"
  }
 },
 "nbformat": 4,
 "nbformat_minor": 5
}
